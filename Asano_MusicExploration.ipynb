{
 "cells": [
  {
   "cell_type": "code",
   "execution_count": 21,
   "metadata": {},
   "outputs": [
    {
     "ename": "TypeError",
     "evalue": "object of type 'NoneType' has no len()",
     "output_type": "error",
     "traceback": [
      "\u001b[1;31m---------------------------------------------------------------------------\u001b[0m",
      "\u001b[1;31mTypeError\u001b[0m                                 Traceback (most recent call last)",
      "\u001b[1;32m<ipython-input-21-9a5d255c5013>\u001b[0m in \u001b[0;36m<module>\u001b[1;34m\u001b[0m\n\u001b[0;32m      6\u001b[0m \u001b[1;32mimport\u001b[0m \u001b[0mnumpy\u001b[0m \u001b[1;32mas\u001b[0m \u001b[0mnp\u001b[0m\u001b[1;33m\u001b[0m\u001b[1;33m\u001b[0m\u001b[0m\n\u001b[0;32m      7\u001b[0m \u001b[1;32mimport\u001b[0m \u001b[0mglob\u001b[0m\u001b[1;33m\u001b[0m\u001b[1;33m\u001b[0m\u001b[0m\n\u001b[1;32m----> 8\u001b[1;33m \u001b[1;32mimport\u001b[0m \u001b[0mpanel\u001b[0m \u001b[1;32mas\u001b[0m \u001b[0mpn\u001b[0m\u001b[1;33m\u001b[0m\u001b[1;33m\u001b[0m\u001b[0m\n\u001b[0m\u001b[0;32m      9\u001b[0m \u001b[0mpn\u001b[0m\u001b[1;33m.\u001b[0m\u001b[0mextension\u001b[0m\u001b[1;33m(\u001b[0m\u001b[1;33m)\u001b[0m\u001b[1;33m\u001b[0m\u001b[1;33m\u001b[0m\u001b[0m\n\u001b[0;32m     10\u001b[0m \u001b[1;33m\u001b[0m\u001b[0m\n",
      "\u001b[1;32m~\\AppData\\Local\\Programs\\Python\\Python39\\lib\\site-packages\\panel\\__init__.py\u001b[0m in \u001b[0;36m<module>\u001b[1;34m\u001b[0m\n\u001b[1;32m----> 1\u001b[1;33m \u001b[1;32mfrom\u001b[0m \u001b[1;33m.\u001b[0m \u001b[1;32mimport\u001b[0m \u001b[0mlayout\u001b[0m \u001b[1;31m# noqa\u001b[0m\u001b[1;33m\u001b[0m\u001b[1;33m\u001b[0m\u001b[0m\n\u001b[0m\u001b[0;32m      2\u001b[0m \u001b[1;32mfrom\u001b[0m \u001b[1;33m.\u001b[0m \u001b[1;32mimport\u001b[0m \u001b[0mlinks\u001b[0m \u001b[1;31m# noqa\u001b[0m\u001b[1;33m\u001b[0m\u001b[1;33m\u001b[0m\u001b[0m\n\u001b[0;32m      3\u001b[0m \u001b[1;32mfrom\u001b[0m \u001b[1;33m.\u001b[0m \u001b[1;32mimport\u001b[0m \u001b[0mpane\u001b[0m \u001b[1;31m# noqa\u001b[0m\u001b[1;33m\u001b[0m\u001b[1;33m\u001b[0m\u001b[0m\n\u001b[0;32m      4\u001b[0m \u001b[1;32mfrom\u001b[0m \u001b[1;33m.\u001b[0m \u001b[1;32mimport\u001b[0m \u001b[0mparam\u001b[0m \u001b[1;31m# noqa\u001b[0m\u001b[1;33m\u001b[0m\u001b[1;33m\u001b[0m\u001b[0m\n\u001b[0;32m      5\u001b[0m \u001b[1;32mfrom\u001b[0m \u001b[1;33m.\u001b[0m \u001b[1;32mimport\u001b[0m \u001b[0mpipeline\u001b[0m \u001b[1;31m# noqa\u001b[0m\u001b[1;33m\u001b[0m\u001b[1;33m\u001b[0m\u001b[0m\n",
      "\u001b[1;32m~\\AppData\\Local\\Programs\\Python\\Python39\\lib\\site-packages\\panel\\layout\\__init__.py\u001b[0m in \u001b[0;36m<module>\u001b[1;34m\u001b[0m\n\u001b[1;32m----> 1\u001b[1;33m \u001b[1;32mfrom\u001b[0m \u001b[1;33m.\u001b[0m\u001b[0maccordion\u001b[0m \u001b[1;32mimport\u001b[0m \u001b[0mAccordion\u001b[0m \u001b[1;31m# noqa\u001b[0m\u001b[1;33m\u001b[0m\u001b[1;33m\u001b[0m\u001b[0m\n\u001b[0m\u001b[0;32m      2\u001b[0m \u001b[1;32mfrom\u001b[0m \u001b[1;33m.\u001b[0m\u001b[0mbase\u001b[0m \u001b[1;32mimport\u001b[0m \u001b[0mColumn\u001b[0m\u001b[1;33m,\u001b[0m \u001b[0mListLike\u001b[0m\u001b[1;33m,\u001b[0m \u001b[0mListPanel\u001b[0m\u001b[1;33m,\u001b[0m \u001b[0mPanel\u001b[0m\u001b[1;33m,\u001b[0m \u001b[0mRow\u001b[0m\u001b[1;33m,\u001b[0m \u001b[0mWidgetBox\u001b[0m \u001b[1;31m# noqa\u001b[0m\u001b[1;33m\u001b[0m\u001b[1;33m\u001b[0m\u001b[0m\n\u001b[0;32m      3\u001b[0m \u001b[1;32mfrom\u001b[0m \u001b[1;33m.\u001b[0m\u001b[0mcard\u001b[0m \u001b[1;32mimport\u001b[0m \u001b[0mCard\u001b[0m \u001b[1;31m# noqa\u001b[0m\u001b[1;33m\u001b[0m\u001b[1;33m\u001b[0m\u001b[0m\n\u001b[0;32m      4\u001b[0m \u001b[1;32mfrom\u001b[0m \u001b[1;33m.\u001b[0m\u001b[0mgrid\u001b[0m \u001b[1;32mimport\u001b[0m \u001b[0mGridBox\u001b[0m\u001b[1;33m,\u001b[0m \u001b[0mGridSpec\u001b[0m \u001b[1;31m# noqa\u001b[0m\u001b[1;33m\u001b[0m\u001b[1;33m\u001b[0m\u001b[0m\n\u001b[0;32m      5\u001b[0m \u001b[1;32mfrom\u001b[0m \u001b[1;33m.\u001b[0m\u001b[0mspacer\u001b[0m \u001b[1;32mimport\u001b[0m \u001b[0mDivider\u001b[0m\u001b[1;33m,\u001b[0m \u001b[0mHSpacer\u001b[0m\u001b[1;33m,\u001b[0m \u001b[0mSpacer\u001b[0m\u001b[1;33m,\u001b[0m \u001b[0mVSpacer\u001b[0m \u001b[1;31m# noqa\u001b[0m\u001b[1;33m\u001b[0m\u001b[1;33m\u001b[0m\u001b[0m\n",
      "\u001b[1;32m~\\AppData\\Local\\Programs\\Python\\Python39\\lib\\site-packages\\panel\\layout\\accordion.py\u001b[0m in \u001b[0;36m<module>\u001b[1;34m\u001b[0m\n\u001b[0;32m      3\u001b[0m \u001b[1;32mfrom\u001b[0m \u001b[0mbokeh\u001b[0m\u001b[1;33m.\u001b[0m\u001b[0mmodels\u001b[0m \u001b[1;32mimport\u001b[0m \u001b[0mColumn\u001b[0m \u001b[1;32mas\u001b[0m \u001b[0mBkColumn\u001b[0m\u001b[1;33m,\u001b[0m \u001b[0mCustomJS\u001b[0m\u001b[1;33m\u001b[0m\u001b[1;33m\u001b[0m\u001b[0m\n\u001b[0;32m      4\u001b[0m \u001b[1;33m\u001b[0m\u001b[0m\n\u001b[1;32m----> 5\u001b[1;33m \u001b[1;32mfrom\u001b[0m \u001b[1;33m.\u001b[0m\u001b[0mbase\u001b[0m \u001b[1;32mimport\u001b[0m \u001b[0mNamedListPanel\u001b[0m\u001b[1;33m\u001b[0m\u001b[1;33m\u001b[0m\u001b[0m\n\u001b[0m\u001b[0;32m      6\u001b[0m \u001b[1;32mfrom\u001b[0m \u001b[1;33m.\u001b[0m\u001b[0mcard\u001b[0m \u001b[1;32mimport\u001b[0m \u001b[0mCard\u001b[0m\u001b[1;33m\u001b[0m\u001b[1;33m\u001b[0m\u001b[0m\n\u001b[0;32m      7\u001b[0m \u001b[1;33m\u001b[0m\u001b[0m\n",
      "\u001b[1;32m~\\AppData\\Local\\Programs\\Python\\Python39\\lib\\site-packages\\panel\\layout\\base.py\u001b[0m in \u001b[0;36m<module>\u001b[1;34m\u001b[0m\n\u001b[0;32m     11\u001b[0m \u001b[1;32mfrom\u001b[0m \u001b[1;33m.\u001b[0m\u001b[1;33m.\u001b[0m\u001b[0mio\u001b[0m\u001b[1;33m.\u001b[0m\u001b[0mmodel\u001b[0m \u001b[1;32mimport\u001b[0m \u001b[0mhold\u001b[0m\u001b[1;33m\u001b[0m\u001b[1;33m\u001b[0m\u001b[0m\n\u001b[0;32m     12\u001b[0m \u001b[1;32mfrom\u001b[0m \u001b[1;33m.\u001b[0m\u001b[1;33m.\u001b[0m\u001b[0mio\u001b[0m\u001b[1;33m.\u001b[0m\u001b[0mstate\u001b[0m \u001b[1;32mimport\u001b[0m \u001b[0mstate\u001b[0m\u001b[1;33m\u001b[0m\u001b[1;33m\u001b[0m\u001b[0m\n\u001b[1;32m---> 13\u001b[1;33m \u001b[1;32mfrom\u001b[0m \u001b[1;33m.\u001b[0m\u001b[1;33m.\u001b[0m\u001b[0mreactive\u001b[0m \u001b[1;32mimport\u001b[0m \u001b[0mReactive\u001b[0m\u001b[1;33m\u001b[0m\u001b[1;33m\u001b[0m\u001b[0m\n\u001b[0m\u001b[0;32m     14\u001b[0m \u001b[1;32mfrom\u001b[0m \u001b[1;33m.\u001b[0m\u001b[1;33m.\u001b[0m\u001b[0mutil\u001b[0m \u001b[1;32mimport\u001b[0m \u001b[0mparam_name\u001b[0m\u001b[1;33m,\u001b[0m \u001b[0mparam_reprs\u001b[0m\u001b[1;33m\u001b[0m\u001b[1;33m\u001b[0m\u001b[0m\n\u001b[0;32m     15\u001b[0m \u001b[1;33m\u001b[0m\u001b[0m\n",
      "\u001b[1;32m~\\AppData\\Local\\Programs\\Python\\Python39\\lib\\site-packages\\panel\\reactive.py\u001b[0m in \u001b[0;36m<module>\u001b[1;34m\u001b[0m\n\u001b[0;32m     25\u001b[0m \u001b[1;32mfrom\u001b[0m \u001b[1;33m.\u001b[0m\u001b[0mio\u001b[0m\u001b[1;33m.\u001b[0m\u001b[0mstate\u001b[0m \u001b[1;32mimport\u001b[0m \u001b[0mstate\u001b[0m\u001b[1;33m\u001b[0m\u001b[1;33m\u001b[0m\u001b[0m\n\u001b[0;32m     26\u001b[0m \u001b[1;32mfrom\u001b[0m \u001b[1;33m.\u001b[0m\u001b[0mutil\u001b[0m \u001b[1;32mimport\u001b[0m \u001b[0medit_readonly\u001b[0m\u001b[1;33m,\u001b[0m \u001b[0mupdating\u001b[0m\u001b[1;33m\u001b[0m\u001b[1;33m\u001b[0m\u001b[0m\n\u001b[1;32m---> 27\u001b[1;33m \u001b[1;32mfrom\u001b[0m \u001b[1;33m.\u001b[0m\u001b[0mviewable\u001b[0m \u001b[1;32mimport\u001b[0m \u001b[0mRenderable\u001b[0m\u001b[1;33m,\u001b[0m \u001b[0mViewable\u001b[0m\u001b[1;33m\u001b[0m\u001b[1;33m\u001b[0m\u001b[0m\n\u001b[0m\u001b[0;32m     28\u001b[0m \u001b[1;33m\u001b[0m\u001b[0m\n\u001b[0;32m     29\u001b[0m \u001b[0mLinkWatcher\u001b[0m \u001b[1;33m=\u001b[0m \u001b[0mnamedtuple\u001b[0m\u001b[1;33m(\u001b[0m\u001b[1;34m\"Watcher\"\u001b[0m\u001b[1;33m,\u001b[0m\u001b[1;34m\"inst cls fn mode onlychanged parameter_names what queued target links transformed bidirectional_watcher\"\u001b[0m\u001b[1;33m)\u001b[0m\u001b[1;33m\u001b[0m\u001b[1;33m\u001b[0m\u001b[0m\n",
      "\u001b[1;32m~\\AppData\\Local\\Programs\\Python\\Python39\\lib\\site-packages\\panel\\viewable.py\u001b[0m in \u001b[0;36m<module>\u001b[1;34m\u001b[0m\n\u001b[0;32m     36\u001b[0m \u001b[1;33m\u001b[0m\u001b[0m\n\u001b[0;32m     37\u001b[0m \u001b[1;33m\u001b[0m\u001b[0m\n\u001b[1;32m---> 38\u001b[1;33m \u001b[1;32mclass\u001b[0m \u001b[0mLayoutable\u001b[0m\u001b[1;33m(\u001b[0m\u001b[0mparam\u001b[0m\u001b[1;33m.\u001b[0m\u001b[0mParameterized\u001b[0m\u001b[1;33m)\u001b[0m\u001b[1;33m:\u001b[0m\u001b[1;33m\u001b[0m\u001b[1;33m\u001b[0m\u001b[0m\n\u001b[0m\u001b[0;32m     39\u001b[0m     \"\"\"\n\u001b[0;32m     40\u001b[0m     \u001b[0mLayoutable\u001b[0m \u001b[0mdefines\u001b[0m \u001b[0mshared\u001b[0m \u001b[0mstyle\u001b[0m \u001b[1;32mand\u001b[0m \u001b[0mlayout\u001b[0m \u001b[0mrelated\u001b[0m \u001b[0mparameters\u001b[0m\u001b[1;33m\u001b[0m\u001b[1;33m\u001b[0m\u001b[0m\n",
      "\u001b[1;32m~\\AppData\\Local\\Programs\\Python\\Python39\\lib\\site-packages\\panel\\viewable.py\u001b[0m in \u001b[0;36mLayoutable\u001b[1;34m()\u001b[0m\n\u001b[0;32m     60\u001b[0m         Background color of the component.\"\"\")\n\u001b[0;32m     61\u001b[0m \u001b[1;33m\u001b[0m\u001b[0m\n\u001b[1;32m---> 62\u001b[1;33m     css_classes = param.List(default=None, doc=\"\"\"\n\u001b[0m\u001b[0;32m     63\u001b[0m         CSS classes to apply to the layout.\"\"\")\n\u001b[0;32m     64\u001b[0m \u001b[1;33m\u001b[0m\u001b[0m\n",
      "\u001b[1;32m~\\AppData\\Local\\Programs\\Python\\Python39\\lib\\site-packages\\param\\__init__.py\u001b[0m in \u001b[0;36m__init__\u001b[1;34m(self, default, class_, item_type, instantiate, bounds, **params)\u001b[0m\n\u001b[0;32m   1388\u001b[0m         Parameter.__init__(self, default=default, instantiate=instantiate,\n\u001b[0;32m   1389\u001b[0m                            **params)\n\u001b[1;32m-> 1390\u001b[1;33m         \u001b[0mself\u001b[0m\u001b[1;33m.\u001b[0m\u001b[0m_validate\u001b[0m\u001b[1;33m(\u001b[0m\u001b[0mdefault\u001b[0m\u001b[1;33m)\u001b[0m\u001b[1;33m\u001b[0m\u001b[1;33m\u001b[0m\u001b[0m\n\u001b[0m\u001b[0;32m   1391\u001b[0m \u001b[1;33m\u001b[0m\u001b[0m\n\u001b[0;32m   1392\u001b[0m     \u001b[1;32mdef\u001b[0m \u001b[0m_validate\u001b[0m\u001b[1;33m(\u001b[0m\u001b[0mself\u001b[0m\u001b[1;33m,\u001b[0m \u001b[0mval\u001b[0m\u001b[1;33m)\u001b[0m\u001b[1;33m:\u001b[0m\u001b[1;33m\u001b[0m\u001b[1;33m\u001b[0m\u001b[0m\n",
      "\u001b[1;32m~\\AppData\\Local\\Programs\\Python\\Python39\\lib\\site-packages\\param\\__init__.py\u001b[0m in \u001b[0;36m_validate\u001b[1;34m(self, val)\u001b[0m\n\u001b[0;32m   1396\u001b[0m         \"\"\"\n\u001b[0;32m   1397\u001b[0m         \u001b[0mself\u001b[0m\u001b[1;33m.\u001b[0m\u001b[0m_validate_value\u001b[0m\u001b[1;33m(\u001b[0m\u001b[0mval\u001b[0m\u001b[1;33m,\u001b[0m \u001b[0mself\u001b[0m\u001b[1;33m.\u001b[0m\u001b[0mallow_None\u001b[0m\u001b[1;33m)\u001b[0m\u001b[1;33m\u001b[0m\u001b[1;33m\u001b[0m\u001b[0m\n\u001b[1;32m-> 1398\u001b[1;33m         \u001b[0mself\u001b[0m\u001b[1;33m.\u001b[0m\u001b[0m_validate_bounds\u001b[0m\u001b[1;33m(\u001b[0m\u001b[0mval\u001b[0m\u001b[1;33m,\u001b[0m \u001b[0mself\u001b[0m\u001b[1;33m.\u001b[0m\u001b[0mbounds\u001b[0m\u001b[1;33m)\u001b[0m\u001b[1;33m\u001b[0m\u001b[1;33m\u001b[0m\u001b[0m\n\u001b[0m\u001b[0;32m   1399\u001b[0m         \u001b[0mself\u001b[0m\u001b[1;33m.\u001b[0m\u001b[0m_validate_item_type\u001b[0m\u001b[1;33m(\u001b[0m\u001b[0mval\u001b[0m\u001b[1;33m,\u001b[0m \u001b[0mself\u001b[0m\u001b[1;33m.\u001b[0m\u001b[0mitem_type\u001b[0m\u001b[1;33m)\u001b[0m\u001b[1;33m\u001b[0m\u001b[1;33m\u001b[0m\u001b[0m\n\u001b[0;32m   1400\u001b[0m \u001b[1;33m\u001b[0m\u001b[0m\n",
      "\u001b[1;32m~\\AppData\\Local\\Programs\\Python\\Python39\\lib\\site-packages\\param\\__init__.py\u001b[0m in \u001b[0;36m_validate_bounds\u001b[1;34m(self, val, bounds)\u001b[0m\n\u001b[0;32m   1404\u001b[0m             \u001b[1;32mreturn\u001b[0m\u001b[1;33m\u001b[0m\u001b[1;33m\u001b[0m\u001b[0m\n\u001b[0;32m   1405\u001b[0m         \u001b[0mmin_length\u001b[0m\u001b[1;33m,\u001b[0m \u001b[0mmax_length\u001b[0m \u001b[1;33m=\u001b[0m \u001b[0mbounds\u001b[0m\u001b[1;33m\u001b[0m\u001b[1;33m\u001b[0m\u001b[0m\n\u001b[1;32m-> 1406\u001b[1;33m         \u001b[0ml\u001b[0m \u001b[1;33m=\u001b[0m \u001b[0mlen\u001b[0m\u001b[1;33m(\u001b[0m\u001b[0mval\u001b[0m\u001b[1;33m)\u001b[0m\u001b[1;33m\u001b[0m\u001b[1;33m\u001b[0m\u001b[0m\n\u001b[0m\u001b[0;32m   1407\u001b[0m         \u001b[1;32mif\u001b[0m \u001b[0mmin_length\u001b[0m \u001b[1;32mis\u001b[0m \u001b[1;32mnot\u001b[0m \u001b[1;32mNone\u001b[0m \u001b[1;32mand\u001b[0m \u001b[0mmax_length\u001b[0m \u001b[1;32mis\u001b[0m \u001b[1;32mnot\u001b[0m \u001b[1;32mNone\u001b[0m\u001b[1;33m:\u001b[0m\u001b[1;33m\u001b[0m\u001b[1;33m\u001b[0m\u001b[0m\n\u001b[0;32m   1408\u001b[0m             \u001b[1;32mif\u001b[0m \u001b[1;32mnot\u001b[0m \u001b[1;33m(\u001b[0m\u001b[0mmin_length\u001b[0m \u001b[1;33m<=\u001b[0m \u001b[0ml\u001b[0m \u001b[1;33m<=\u001b[0m \u001b[0mmax_length\u001b[0m\u001b[1;33m)\u001b[0m\u001b[1;33m:\u001b[0m\u001b[1;33m\u001b[0m\u001b[1;33m\u001b[0m\u001b[0m\n",
      "\u001b[1;31mTypeError\u001b[0m: object of type 'NoneType' has no len()"
     ]
    }
   ],
   "source": [
    "%matplotlib inline\r\n",
    "from tkinter import *\r\n",
    "import pandas as pd\r\n",
    "import matplotlib.pyplot as plt\r\n",
    "import seaborn as sns \r\n",
    "import numpy as np\r\n",
    "import panel as pn\r\n",
    "\r\n",
    "\r\n"
   ]
  },
  {
   "cell_type": "markdown",
   "metadata": {},
   "source": [
    "First exploration - \r\n",
    "1) filter release_date to only the first 4 characters (year) store as year_released\r\n",
    "2) filter year_released to popularity > 80\r\n",
    "2) Find average danceability for each year ex: if release_date == 1990 > mean()\r\n",
    "3) plot x = year y = avg danceability"
   ]
  },
  {
   "cell_type": "code",
   "execution_count": null,
   "metadata": {},
   "outputs": [],
   "source": [
    "path = r'C:\\Users\\dasan\\Desktop\\Repo\\Project' #Read multiple CSV by pattern matching\r\n",
    "all_files = glob.glob(path +\"/*.csv\")\r\n",
    "li = []\r\n",
    "\r\n",
    "for filename in all_files:\r\n",
    "    df = pd.read_csv(filename, index_col=None, header=0)\r\n",
    "    li.append(df)\r\n",
    "\r\n",
    "frame = pd.concat(li, axis=0, ignore_index=True)"
   ]
  },
  {
   "cell_type": "code",
   "execution_count": null,
   "metadata": {},
   "outputs": [],
   "source": [
    "len(df) #Length and types of data in CSV\r\n",
    "df.dtypes\r\n"
   ]
  },
  {
   "cell_type": "code",
   "execution_count": null,
   "metadata": {},
   "outputs": [],
   "source": [
    "# x= release date y = average----\r\n",
    "df.release_date\r\n"
   ]
  },
  {
   "cell_type": "code",
   "execution_count": null,
   "metadata": {},
   "outputs": [],
   "source": [
    "#Year\r\n",
    "df[\"Year Released\"] = pd.to_datetime(df['release_date'])\r\n",
    "df[\"Year Released\"] = df[\"Year Released\"].dt.year\r\n",
    "df"
   ]
  },
  {
   "cell_type": "code",
   "execution_count": null,
   "metadata": {},
   "outputs": [],
   "source": [
    "#Songs with popularity +80\r\n",
    "df_popular = df[df['popularity'] >= 80]\r\n",
    "df_popular.dtypes"
   ]
  },
  {
   "cell_type": "code",
   "execution_count": null,
   "metadata": {},
   "outputs": [],
   "source": [
    "# average danceability for each year || sum(year) / num(year) > year + 1\r\n",
    "df_popular.loc[df_popular ['Year Released'] == 2021]\r\n",
    "#1967 first year with data for song 80+ popularity"
   ]
  },
  {
   "cell_type": "code",
   "execution_count": null,
   "metadata": {},
   "outputs": [],
   "source": [
    "# Avg danceability each year\r\n",
    "dance_year = df_popular['danceability'].groupby(df_popular['Year Released'])\r\n",
    "print(dance_year.mean())"
   ]
  },
  {
   "cell_type": "code",
   "execution_count": null,
   "metadata": {},
   "outputs": [],
   "source": [
    "plt.plot(dance_year.median())"
   ]
  },
  {
   "cell_type": "markdown",
   "metadata": {},
   "source": [
    "Next to do: User input chooses the plot with dropdown from tkinter \r\n",
    "            Exclude mode and key"
   ]
  },
  {
   "cell_type": "code",
   "execution_count": null,
   "metadata": {},
   "outputs": [],
   "source": [
    "root = Tk()\r\n",
    "\r\n",
    "root.geometry(\"200x200\")\r\n",
    "def show():\r\n",
    "    label.config(text=clicked.get())\r\n",
    "\r\n",
    "options = [\"duration_ms\",\"explicit\",\"danceability\",\"energy\",\"loudness\",\"speechiness\",\"acousticness\",\"instrumentalness\",\"liveness\",\"valence\",\"tempo\",\"time_signature\"]  \r\n",
    "\r\n",
    "clicked = StringVar(root)\r\n",
    "clicked.set(options[0])\r\n",
    "\r\n",
    "drop = OptionMenu(root, clicked, *options)\r\n",
    "drop.pack()\r\n",
    "\r\n",
    "button = Button(root, text = \"Click\", command = show).pack()\r\n",
    "\r\n",
    "label = Label(root, text = \" \")\r\n",
    "label.pack()\r\n",
    "\r\n",
    "root.mainloop()\r\n",
    "\r\n",
    "plot = df_popular[clicked.get()].groupby(df_popular['Year Released'])\r\n",
    "plt.plot(plot.mean())\r\n"
   ]
  },
  {
   "cell_type": "markdown",
   "metadata": {},
   "source": [
    "Need to add correlation/regression? look into stats\r\n",
    "Also add labels\r\n",
    "Note - median may be more useful than mean // could let user choose median or mean"
   ]
  },
  {
   "cell_type": "code",
   "execution_count": null,
   "metadata": {},
   "outputs": [],
   "source": [
    "r = np.corrcoef(df_popular['Year Released'], df_popular['danceability'])\r\n",
    "r"
   ]
  },
  {
   "cell_type": "code",
   "execution_count": null,
   "metadata": {},
   "outputs": [],
   "source": [
    "df_popular.corr()\r\n",
    "#Correlation analysis, numbers close to +/- 1 are strongest corr\r\n"
   ]
  },
  {
   "cell_type": "markdown",
   "metadata": {},
   "source": [
    "Notes for what to explore:\r\n",
    "Find any relationship/intersection between any column against time and popularity against time\r\n",
    "Look into those with interesting Correlations: unstack and sort for those above .3 in either direction, remove duplicates\r\n",
    "\r\n",
    "To do next with that data: data viz"
   ]
  },
  {
   "cell_type": "code",
   "execution_count": null,
   "metadata": {},
   "outputs": [],
   "source": [
    "c = df_popular.corr()\r\n",
    "\r\n",
    "s = c.unstack() #unstack to sort by value\r\n",
    "so = s.sort_values(kind=\"quicksort\")\r\n",
    "so1 = so[0:8]\r\n",
    "result1 = {} # remove duplicates\r\n",
    "for key,value in so1.items():\r\n",
    "    if value not in result1.values():\r\n",
    "        result1[key] = value\r\n",
    "result1"
   ]
  },
  {
   "cell_type": "code",
   "execution_count": null,
   "metadata": {},
   "outputs": [],
   "source": [
    "so2 = so[228:240]\r\n",
    "\r\n",
    "result2 = {}\r\n",
    "for key,value in so2.items():\r\n",
    "    if value not in result2.values():\r\n",
    "        result2[key] = value\r\n",
    "result1.update(result2)"
   ]
  },
  {
   "cell_type": "markdown",
   "metadata": {},
   "source": [
    "Correlation for popularity\r\n",
    "Note duration only thing correlated to year released"
   ]
  },
  {
   "cell_type": "code",
   "execution_count": null,
   "metadata": {},
   "outputs": [],
   "source": [
    "p = {**result1}\r\n",
    "p_ = {'Popularity 80+' : result1}\r\n",
    "dfp = pd.DataFrame(data=p_) \r\n",
    "dfp.plot.barh()"
   ]
  },
  {
   "cell_type": "markdown",
   "metadata": {},
   "source": [
    "Check if key or mode change correlation"
   ]
  },
  {
   "cell_type": "code",
   "execution_count": null,
   "metadata": {},
   "outputs": [],
   "source": [
    "#dataframe popular - filter by mode 0/1\r\n",
    "df_mode_1 = df_popular[df_popular['mode'] == 1]\r\n",
    "df_mode_0 = df_popular[df_popular['mode'] == 0]\r\n",
    "df_mode_0"
   ]
  },
  {
   "cell_type": "code",
   "execution_count": null,
   "metadata": {},
   "outputs": [],
   "source": [
    "#mode = 1 correlations -\r\n",
    "cm1 = df_mode_1.corr()\r\n",
    "cm1 = cm1.drop('mode')\r\n",
    "cm1 = cm1.drop('mode', axis = 1) #remove nan\r\n",
    "\r\n",
    "sm1 = cm1.unstack() #unstack to sort by value\r\n",
    "som1 = sm1.sort_values(kind=\"quicksort\")\r\n",
    "som1 = som1[:]\r\n",
    "resultm1 = {} # remove duplicates\r\n",
    "for key,value in som1.items():\r\n",
    "    if value not in resultm1.values():\r\n",
    "        resultm1[key] = value\r\n",
    "res = {key : val for key, val in resultm1.items()\r\n",
    "                   if type(val) != int and val < -.30}\r\n",
    "res\r\n"
   ]
  },
  {
   "cell_type": "code",
   "execution_count": null,
   "metadata": {},
   "outputs": [],
   "source": [
    "#mode = 1 correlations +\r\n",
    "sm1_ = cm1.unstack() #unstack to sort by value\r\n",
    "som1_ = sm1_.sort_values(kind=\"quicksort\")\r\n",
    "som1_ = som1_[:]\r\n",
    "resultm1_ = {} # remove duplicates\r\n",
    "for key,value in som1_.items():\r\n",
    "    if value not in resultm1_.values():\r\n",
    "        resultm1_[key] = value\r\n",
    "res_ = {key : val for key, val in resultm1_.items()\r\n",
    "                   if type(val) != int and val > .30 and val != 1}\r\n",
    "res.update(res_)\r\n",
    "res"
   ]
  },
  {
   "cell_type": "code",
   "execution_count": null,
   "metadata": {},
   "outputs": [],
   "source": [
    "#mode = 0 correlations - \r\n",
    "cm0 = df_mode_0.corr()\r\n",
    "cm0 = cm0.drop('mode')\r\n",
    "cm0 = cm0.drop('mode', axis = 1) #remove nan\r\n",
    "\r\n",
    "sm0 = cm0.unstack() #unstack to sort by value\r\n",
    "som0 = sm0.sort_values(kind=\"quicksort\")\r\n",
    "som0 = som0[:]\r\n",
    "resultm0 = {} # remove duplicates\r\n",
    "for key,value in som0.items():\r\n",
    "    if value not in resultm0.values():\r\n",
    "        resultm0[key] = value\r\n",
    "res0 = {key : val for key, val in resultm0.items()\r\n",
    "                   if type(val) != int and val < -.30}\r\n",
    "res0"
   ]
  },
  {
   "cell_type": "code",
   "execution_count": null,
   "metadata": {},
   "outputs": [],
   "source": [
    "#mode = 0 correlations +\r\n",
    "cm0_ = df_mode_0.corr()\r\n",
    "cm0_ = cm0_.drop('mode')\r\n",
    "cm0_ = cm0_.drop('mode', axis = 1) #remove nan\r\n",
    "\r\n",
    "sm0_ = cm0_.unstack() #unstack to sort by value\r\n",
    "som0_ = sm0_.sort_values(kind=\"quicksort\")\r\n",
    "som0_ = som0_[:]\r\n",
    "resultm0_ = {} # remove duplicates\r\n",
    "for key,value in som0_.items():\r\n",
    "    if value not in resultm0_.values():\r\n",
    "        resultm0_[key] = value\r\n",
    "res0_ = {key : val for key, val in resultm0_.items()\r\n",
    "                   if type(val) != int and val > .30 and val != 1.0}\r\n",
    "res0.update(res0_)\r\n",
    "res0\r\n"
   ]
  },
  {
   "cell_type": "code",
   "execution_count": null,
   "metadata": {},
   "outputs": [],
   "source": [
    "m0_ = {**res0}\r\n",
    "m0_ = {'Mode 0/Major' : res0}\r\n",
    "dfm0 = pd.DataFrame(data=m0_) \r\n",
    "m1_ = {**res}\r\n",
    "m1_ = {'Mode 0/Minor' : res}\r\n",
    "dfm1 = pd.DataFrame(data=m1_) \r\n",
    "\r\n",
    "dfm0.plot.barh()\r\n",
    "dfm1.plot.barh()"
   ]
  },
  {
   "cell_type": "markdown",
   "metadata": {},
   "source": [
    "Correlations for all keys"
   ]
  },
  {
   "cell_type": "code",
   "execution_count": null,
   "metadata": {},
   "outputs": [],
   "source": [
    "#d = {}\r\n",
    "#for i in range(0,12):\r\n",
    "    #d[\"df_key{0}\".format(x)] = df_popular[df_popular['key'] == i]\r\n",
    "df_key0 = df_popular[df_popular['key'] == 0]\r\n",
    "df_key1 = df_popular[df_popular['key'] == 1]\r\n",
    "df_key2 = df_popular[df_popular['key'] == 2]\r\n",
    "df_key3 = df_popular[df_popular['key'] == 3]\r\n",
    "df_key4 = df_popular[df_popular['key'] == 4]\r\n",
    "df_key5 = df_popular[df_popular['key'] == 5]\r\n",
    "df_key6 = df_popular[df_popular['key'] == 6]\r\n",
    "df_key7 = df_popular[df_popular['key'] == 7]\r\n",
    "df_key8 = df_popular[df_popular['key'] == 8]\r\n",
    "df_key9 = df_popular[df_popular['key'] == 9]\r\n",
    "df_key10 = df_popular[df_popular['key'] == 10]\r\n",
    "df_key11 = df_popular[df_popular['key'] == 11]\r\n",
    "\r\n",
    "\r\n",
    "#Need to automate this process to go through range(0,12)"
   ]
  },
  {
   "cell_type": "code",
   "execution_count": null,
   "metadata": {},
   "outputs": [],
   "source": [
    "#Correlations for key 0\r\n",
    "k0 = df_key0.corr()\r\n",
    "k0 = k0.drop('key')\r\n",
    "k0 = k0.drop('key', axis = 1) #remove nan\r\n",
    "\r\n",
    "uk0 = k0.unstack() #unstack to sort by value\r\n",
    "suk0 = uk0.sort_values(kind=\"quicksort\")\r\n",
    "suk0 = suk0[:]\r\n",
    "resultk0 = {} # remove duplicates\r\n",
    "for key,value in suk0.items():\r\n",
    "    if value not in resultk0.values():\r\n",
    "        resultk0[key] = value\r\n",
    "resk0 = {key : val for key, val in resultk0.items()\r\n",
    "                   if type(val) != int and val < -.30}\r\n",
    "reskk0_ = {key : val for key, val in resultk0.items()\r\n",
    "                   if type(val) != int and val > .30 and val != 1.0}\r\n",
    "resk0.update(reskk0_)\r\n",
    "\r\n",
    "\r\n",
    "#Correlations for key 1\r\n",
    "k1 = df_key1.corr()\r\n",
    "k1 = k1.drop('key')\r\n",
    "k1 = k1.drop('key', axis = 1) #remove nan\r\n",
    "\r\n",
    "uk1 = k1.unstack() #unstack to sort by value\r\n",
    "suk1 = uk1.sort_values(kind=\"quicksort\")\r\n",
    "suk1 = suk1[:]\r\n",
    "resultk1 = {} # remove duplicates\r\n",
    "for key,value in suk1.items():\r\n",
    "    if value not in resultk1.values():\r\n",
    "        resultk1[key] = value\r\n",
    "resk1 = {key : val for key, val in resultk1.items()\r\n",
    "                   if type(val) != int and val < -.30}\r\n",
    "reskk1_ = {key : val for key, val in resultk1.items()\r\n",
    "                   if type(val) != int and val > .30 and val != 1.0}\r\n",
    "resk1.update(reskk1_)\r\n",
    "\r\n",
    "\r\n",
    "#Correlations for key 2\r\n",
    "k2 = df_key2.corr()\r\n",
    "k2 = k2.drop('key')\r\n",
    "k2 = k2.drop('key', axis = 1) #remove nan\r\n",
    "\r\n",
    "uk2 = k2.unstack() #unstack to sort by value\r\n",
    "suk2 = uk2.sort_values(kind=\"quicksort\")\r\n",
    "suk2 = suk2[:]\r\n",
    "resultk2 = {} # remove duplicates\r\n",
    "for key,value in suk2.items():\r\n",
    "    if value not in resultk2.values():\r\n",
    "        resultk2[key] = value\r\n",
    "resk2 = {key : val for key, val in resultk2.items()\r\n",
    "                   if type(val) != int and val < -.30}\r\n",
    "reskk2_ = {key : val for key, val in resultk2.items()\r\n",
    "                   if type(val) != int and val > .30 and val != 1.0}\r\n",
    "resk2.update(reskk2_)\r\n",
    "\r\n",
    "#Correlations for key 3\r\n",
    "k3 = df_key3.corr()\r\n",
    "k3 = k3.drop('key')\r\n",
    "k3 = k3.drop('key', axis = 1) #remove nan\r\n",
    "\r\n",
    "uk3 = k3.unstack() #unstack to sort by value\r\n",
    "suk3 = uk3.sort_values(kind=\"quicksort\")\r\n",
    "suk3 = suk3[:]\r\n",
    "resultk3 = {} # remove duplicates\r\n",
    "for key,value in suk3.items():\r\n",
    "    if value not in resultk3.values():\r\n",
    "        resultk3[key] = value\r\n",
    "resk3 = {key : val for key, val in resultk3.items()\r\n",
    "                   if type(val) != int and val < -.30}\r\n",
    "reskk3_ = {key : val for key, val in resultk3.items()\r\n",
    "                   if type(val) != int and val > .30 and val != 1.0}\r\n",
    "resk3.update(reskk3_)\r\n",
    "\r\n",
    "\r\n",
    "#Correlations for key 4\r\n",
    "k4 = df_key4.corr()\r\n",
    "k4 = k4.drop('key')\r\n",
    "k4 = k4.drop('key', axis = 1) #remove nan\r\n",
    "\r\n",
    "uk4 = k4.unstack() #unstack to sort by value\r\n",
    "suk4 = uk4.sort_values(kind=\"quicksort\")\r\n",
    "suk4 = suk4[:]\r\n",
    "resultk4 = {} # remove duplicates\r\n",
    "for key,value in suk4.items():\r\n",
    "    if value not in resultk4.values():\r\n",
    "        resultk4[key] = value\r\n",
    "resk4 = {key : val for key, val in resultk4.items()\r\n",
    "                   if type(val) != int and val < -.30}\r\n",
    "reskk4_ = {key : val for key, val in resultk4.items()\r\n",
    "                   if type(val) != int and val > .30 and val != 1.0}\r\n",
    "resk4.update(reskk4_)\r\n",
    "\r\n",
    "\r\n",
    "#Correlations for key 5\r\n",
    "k5 = df_key5.corr()\r\n",
    "k5 = k5.drop('key')\r\n",
    "k5 = k5.drop('key', axis = 1) #remove nan\r\n",
    "\r\n",
    "uk5 = k5.unstack() #unstack to sort by value\r\n",
    "suk5 = uk5.sort_values(kind=\"quicksort\")\r\n",
    "suk5 = suk5[:]\r\n",
    "resultk5 = {} # remove duplicates\r\n",
    "for key,value in suk5.items():\r\n",
    "    if value not in resultk5.values():\r\n",
    "        resultk5[key] = value\r\n",
    "resk5 = {key : val for key, val in resultk5.items()\r\n",
    "                   if type(val) != int and val < -.30}\r\n",
    "reskk5_ = {key : val for key, val in resultk5.items()\r\n",
    "                   if type(val) != int and val > .30 and val != 1.0}\r\n",
    "resk5.update(reskk5_)\r\n",
    "\r\n",
    "\r\n",
    "#Correlations for key 6\r\n",
    "k6 = df_key6.corr()\r\n",
    "k6 = k6.drop('key')\r\n",
    "k6 = k6.drop('key', axis = 1) #remove nan\r\n",
    "\r\n",
    "uk6 = k6.unstack() #unstack to sort by value\r\n",
    "suk6 = uk6.sort_values(kind=\"quicksort\")\r\n",
    "suk6 = suk6[:]\r\n",
    "resultk6 = {} # remove duplicates\r\n",
    "for key,value in suk6.items():\r\n",
    "    if value not in resultk6.values():\r\n",
    "        resultk6[key] = value\r\n",
    "resk6 = {key : val for key, val in resultk6.items()\r\n",
    "                   if type(val) != int and val < -.30}\r\n",
    "reskk6_ = {key : val for key, val in resultk6.items()\r\n",
    "                   if type(val) != int and val > .30 and val != 1.0}\r\n",
    "resk6.update(reskk6_)\r\n",
    "\r\n",
    "#Correlations for key 7\r\n",
    "k7 = df_key7.corr()\r\n",
    "k7 = k7.drop('key')\r\n",
    "k7 = k7.drop('key', axis = 1) #remove nan\r\n",
    "\r\n",
    "uk7 = k7.unstack() #unstack to sort by value\r\n",
    "suk7 = uk7.sort_values(kind=\"quicksort\")\r\n",
    "suk7 = suk7[:]\r\n",
    "resultk7 = {} # remove duplicates\r\n",
    "for key,value in suk3.items():\r\n",
    "    if value not in resultk7.values():\r\n",
    "        resultk7[key] = value\r\n",
    "resk7 = {key : val for key, val in resultk7.items()\r\n",
    "                   if type(val) != int and val < -.30}\r\n",
    "reskk7_ = {key : val for key, val in resultk7.items()\r\n",
    "                   if type(val) != int and val > .30 and val != 1.0}\r\n",
    "resk7.update(reskk7_)\r\n",
    "\r\n",
    "#Correlations for key 8\r\n",
    "k8 = df_key8.corr()\r\n",
    "k8 = k8.drop('key')\r\n",
    "k8 = k8.drop('key', axis = 1) #remove nan\r\n",
    "\r\n",
    "uk8 = k8.unstack() #unstack to sort by value\r\n",
    "suk8 = uk8.sort_values(kind=\"quicksort\")\r\n",
    "suk8 = suk8[:]\r\n",
    "resultk8 = {} # remove duplicates\r\n",
    "for key,value in suk8.items():\r\n",
    "    if value not in resultk8.values():\r\n",
    "        resultk8[key] = value\r\n",
    "resk8 = {key : val for key, val in resultk8.items()\r\n",
    "                   if type(val) != int and val < -.30}\r\n",
    "reskk8_ = {key : val for key, val in resultk8.items()\r\n",
    "                   if type(val) != int and val > .30 and val != 1.0}\r\n",
    "resk8.update(reskk8_)\r\n",
    "\r\n",
    "#Correlations for key 9\r\n",
    "k9 = df_key9.corr()\r\n",
    "k9 = k9.drop('key')\r\n",
    "k9 = k9.drop('key', axis = 1) #remove nan\r\n",
    "\r\n",
    "uk9 = k9.unstack() #unstack to sort by value\r\n",
    "suk9 = uk9.sort_values(kind=\"quicksort\")\r\n",
    "suk9 = suk9[:]\r\n",
    "resultk9 = {} # remove duplicates\r\n",
    "for key,value in suk9.items():\r\n",
    "    if value not in resultk9.values():\r\n",
    "        resultk9[key] = value\r\n",
    "resk9 = {key : val for key, val in resultk9.items()\r\n",
    "                   if type(val) != int and val < -.30}\r\n",
    "reskk9_ = {key : val for key, val in resultk9.items()\r\n",
    "                   if type(val) != int and val > .30 and val != 1.0}\r\n",
    "resk9.update(reskk9_)\r\n",
    "\r\n",
    "#Correlations for key 10\r\n",
    "k10 = df_key10.corr()\r\n",
    "k10 = k10.drop('key')\r\n",
    "k10 = k10.drop('key', axis = 1) #remove nan\r\n",
    "\r\n",
    "uk10 = k10.unstack() #unstack to sort by value\r\n",
    "suk10 = uk10.sort_values(kind=\"quicksort\")\r\n",
    "suk10 = suk10[:]\r\n",
    "resultk10 = {} # remove duplicates\r\n",
    "for key,value in suk10.items():\r\n",
    "    if value not in resultk10.values():\r\n",
    "        resultk10[key] = value\r\n",
    "resk10 = {key : val for key, val in resultk10.items()\r\n",
    "                   if type(val) != int and val < -.30}\r\n",
    "reskk10_ = {key : val for key, val in resultk10.items()\r\n",
    "                   if type(val) != int and val > .30 and val != 1.0}\r\n",
    "resk10.update(reskk10_)\r\n",
    "\r\n",
    "#Correlations for key 11\r\n",
    "k11 = df_key11.corr()\r\n",
    "k11 = k11.drop('key')\r\n",
    "k11 = k11.drop('key', axis = 1) #remove nan\r\n",
    "\r\n",
    "uk11 = k11.unstack() #unstack to sort by value\r\n",
    "suk11 = uk11.sort_values(kind=\"quicksort\")\r\n",
    "suk11 = suk11[:]\r\n",
    "resultk11 = {} # remove duplicates\r\n",
    "for key,value in suk11.items():\r\n",
    "    if value not in resultk11.values():\r\n",
    "        resultk11[key] = value\r\n",
    "resk11 = {key : val for key, val in resultk11.items()\r\n",
    "                   if type(val) != int and val < -.30}\r\n",
    "reskk11_ = {key : val for key, val in resultk11.items()\r\n",
    "                   if type(val) != int and val > .30 and val != 1.0}\r\n",
    "resk11.update(reskk11_)\r\n",
    "\r\n",
    "\r\n"
   ]
  },
  {
   "cell_type": "code",
   "execution_count": null,
   "metadata": {},
   "outputs": [],
   "source": [
    "#dataframe for k0 = dfk0\r\n",
    "k0_ = {**resk0}\r\n",
    "k0_ = {'key0/C' : resk0}\r\n",
    "dfk0 = pd.DataFrame(data=k0_) \r\n",
    "\r\n",
    "k1_ = {**resk1}\r\n",
    "k1_ = {'key1/C#' : resk1}\r\n",
    "dfk1 = pd.DataFrame(data=k1_) \r\n",
    "\r\n",
    "k2_ = {**resk0}\r\n",
    "k2_ = {'key2/D' : resk2}\r\n",
    "dfk2 = pd.DataFrame(data=k2_) \r\n",
    "\r\n",
    "k3_ = {**resk3}\r\n",
    "k3_ = {'key3/D#' : resk3}\r\n",
    "dfk3 = pd.DataFrame(data=k3_) \r\n",
    "\r\n",
    "\r\n",
    "k4_ = {**resk4}\r\n",
    "k4_ = {'key4/E' : resk4}\r\n",
    "dfk4 = pd.DataFrame(data=k4_) \r\n",
    "\r\n",
    "\r\n",
    "k5_ = {**resk5}\r\n",
    "k5_ = {'key5/F' : resk5}\r\n",
    "dfk5 = pd.DataFrame(data=k5_) \r\n",
    "\r\n",
    "\r\n",
    "k6_ = {**resk6}\r\n",
    "k6_ = {'key6/F#' : resk6}\r\n",
    "dfk6 = pd.DataFrame(data=k6_) \r\n",
    "\r\n",
    "\r\n",
    "k7_ = {**resk7}\r\n",
    "k7_ = {'key7/G' : resk7}\r\n",
    "dfk7 = pd.DataFrame(data=k7_) \r\n",
    "\r\n",
    "\r\n",
    "k8_ = {**resk8}\r\n",
    "k8_ = {'key8/G#' : resk8}\r\n",
    "dfk8 = pd.DataFrame(data=k8_) \r\n",
    "\r\n",
    "k9_ = {**resk9}\r\n",
    "k9_ = {'key9/A' : resk9}\r\n",
    "dfk9 = pd.DataFrame(data=k9_) \r\n",
    "\r\n",
    "\r\n",
    "k10_ = {**resk10}\r\n",
    "k10_ = {'key10/A#' : resk10}\r\n",
    "dfk10 = pd.DataFrame(data=k10_) \r\n",
    "\r\n",
    "k11_ = {**resk11}\r\n",
    "k11_ = {'key11/B' : resk11}\r\n",
    "dfk11 = pd.DataFrame(data=k11_) "
   ]
  },
  {
   "cell_type": "code",
   "execution_count": null,
   "metadata": {},
   "outputs": [],
   "source": [
    "dfk0"
   ]
  },
  {
   "cell_type": "markdown",
   "metadata": {},
   "source": [
    "Find way to display key data\r\n",
    "Note: maybe drop down to select key and will show the corr data\r\n"
   ]
  },
  {
   "cell_type": "code",
   "execution_count": null,
   "metadata": {},
   "outputs": [],
   "source": [
    "dfk0.plot.barh()\r\n",
    "dfk1.plot.barh()\r\n",
    "dfk2.plot.barh()\r\n",
    "dfk3.plot.barh()\r\n",
    "dfk4.plot.barh()\r\n",
    "dfk5.plot.barh()\r\n",
    "dfk6.plot.barh()\r\n",
    "dfk7.plot.barh()\r\n",
    "dfk8.plot.barh()\r\n",
    "dfk9.plot.barh()\r\n",
    "dfk10.plot.barh()\r\n",
    "dfk11.plot.barh()"
   ]
  },
  {
   "cell_type": "markdown",
   "metadata": {},
   "source": [
    "Notes on Correlations\r\n",
    "------------------------\r\n",
    "There are many correlations for key, maybe filter down to large .5+\r\n",
    "\r\n",
    "Mode has few correlationss keep at low .3+"
   ]
  },
  {
   "cell_type": "markdown",
   "metadata": {},
   "source": [
    "So Far Done\r\n",
    "-----------------------\r\n",
    "1) Graph creation for variable over time\r\n",
    "    // need to add correlation lines\r\n",
    "\r\n",
    "2) Graph for popularity\r\n",
    "\r\n",
    "3) Graph for Mode\r\n",
    "\r\n",
    "4) Graph for Key\r\n",
    "\r\n",
    "//////\r\n",
    "Need to figure out what to do with correlation data, How to display\r\n",
    "\r\n",
    "\r\n",
    "If find out how to loop through creating new dataframes maybe do filter by mode and key at same time\r\n",
    "\r\n",
    "Graphs for every year"
   ]
  },
  {
   "cell_type": "markdown",
   "metadata": {},
   "source": [
    "Pop 80+ Corre .3 // valence,loudness | valence,danceability | loudness,instrumentalness | loudness,energy | loudness,acousticness |\r\n",
    "explicit, speechiness | explicit, danceability | energy, valence |\r\n",
    "duration_ms, Year Released | acousticness,energy\r\n",
    "\r\n",
    "Only Year Released correlation is duration_ms"
   ]
  },
  {
   "cell_type": "code",
   "execution_count": null,
   "metadata": {},
   "outputs": [],
   "source": [
    "dfp.plot.barh()"
   ]
  },
  {
   "cell_type": "code",
   "execution_count": null,
   "metadata": {},
   "outputs": [],
   "source": [
    "#Try to make user input of X and Y where X filters Y options to those that correlate\r\n",
    "#Do for popular songs all modes/keys first then figure out filters \r\n",
    "\r\n",
    "dfc = df_popular.corr()\r\n",
    "\r\n",
    "root1 = Tk()\r\n",
    "\r\n",
    "root1.geometry(\"200x200\")\r\n",
    "def show():\r\n",
    "    label.config(text=clicked.get())\r\n",
    "\r\n",
    "optionsx = [\"duration_ms\",\"explicit\",\"danceability\",\"energy\",\"loudness\",\"speechiness\",\"acousticness\",\"instrumentalness\",\"liveness\",\"valence\",\"tempo\",\"time_signature\"]  \r\n",
    "optionsy=[]\r\n",
    "\r\n",
    "clickedx = StringVar(root1)\r\n",
    "clickedx.set(optionsx[0])\r\n",
    "\r\n",
    "\r\n",
    "drop1 = OptionMenu(root1, clickedx, *options)\r\n",
    "drop1.pack()\r\n",
    "\r\n",
    "button1 = Button(root1, text = \"Click\", command = show).pack()\r\n",
    "\r\n",
    "label1 = Label(root1, text = \" \")\r\n",
    "label1.pack()\r\n",
    "\r\n",
    "root1.mainloop()\r\n",
    "plot = df_popular[clicked.get()].groupby(df_popular['Year Released'])\r\n",
    "plt.plot(plot.mean())\r\n",
    "\r\n"
   ]
  },
  {
   "cell_type": "code",
   "execution_count": null,
   "metadata": {},
   "outputs": [],
   "source": [
    "dfc = df_popular.corr()\r\n",
    "#ax = sns.regplot(x=\"energy\", y=\"loudness\", data=dfc)\r\n",
    "sns.regplot(x=dfc['Year Released'],y=dfc['duration_ms'])"
   ]
  },
  {
   "cell_type": "markdown",
   "metadata": {},
   "source": [
    "Panels GUI"
   ]
  },
  {
   "cell_type": "code",
   "execution_count": 1,
   "metadata": {},
   "outputs": [
    {
     "ename": "TypeError",
     "evalue": "object of type 'NoneType' has no len()",
     "output_type": "error",
     "traceback": [
      "\u001b[1;31m---------------------------------------------------------------------------\u001b[0m",
      "\u001b[1;31mTypeError\u001b[0m                                 Traceback (most recent call last)",
      "\u001b[1;32m<ipython-input-1-ab8a97fe6b01>\u001b[0m in \u001b[0;36m<module>\u001b[1;34m\u001b[0m\n\u001b[1;32m----> 1\u001b[1;33m \u001b[1;32mimport\u001b[0m \u001b[0mpanel\u001b[0m \u001b[1;32mas\u001b[0m \u001b[0mpn\u001b[0m\u001b[1;33m\u001b[0m\u001b[1;33m\u001b[0m\u001b[0m\n\u001b[0m\u001b[0;32m      2\u001b[0m \u001b[0mpn\u001b[0m\u001b[1;33m.\u001b[0m\u001b[0mextension\u001b[0m\u001b[1;33m(\u001b[0m\u001b[1;33m)\u001b[0m\u001b[1;33m\u001b[0m\u001b[1;33m\u001b[0m\u001b[0m\n\u001b[0;32m      3\u001b[0m \u001b[0mpn\u001b[0m\u001b[1;33m.\u001b[0m\u001b[0mColumn\u001b[0m\u001b[1;33m(\u001b[0m\u001b[1;34m\"# Hello Panel World\"\u001b[0m\u001b[1;33m)\u001b[0m\u001b[1;33m\u001b[0m\u001b[1;33m\u001b[0m\u001b[0m\n",
      "\u001b[1;32m~\\AppData\\Local\\Programs\\Python\\Python39\\lib\\site-packages\\panel\\__init__.py\u001b[0m in \u001b[0;36m<module>\u001b[1;34m\u001b[0m\n\u001b[1;32m----> 1\u001b[1;33m \u001b[1;32mfrom\u001b[0m \u001b[1;33m.\u001b[0m \u001b[1;32mimport\u001b[0m \u001b[0mlayout\u001b[0m \u001b[1;31m# noqa\u001b[0m\u001b[1;33m\u001b[0m\u001b[1;33m\u001b[0m\u001b[0m\n\u001b[0m\u001b[0;32m      2\u001b[0m \u001b[1;32mfrom\u001b[0m \u001b[1;33m.\u001b[0m \u001b[1;32mimport\u001b[0m \u001b[0mlinks\u001b[0m \u001b[1;31m# noqa\u001b[0m\u001b[1;33m\u001b[0m\u001b[1;33m\u001b[0m\u001b[0m\n\u001b[0;32m      3\u001b[0m \u001b[1;32mfrom\u001b[0m \u001b[1;33m.\u001b[0m \u001b[1;32mimport\u001b[0m \u001b[0mpane\u001b[0m \u001b[1;31m# noqa\u001b[0m\u001b[1;33m\u001b[0m\u001b[1;33m\u001b[0m\u001b[0m\n\u001b[0;32m      4\u001b[0m \u001b[1;32mfrom\u001b[0m \u001b[1;33m.\u001b[0m \u001b[1;32mimport\u001b[0m \u001b[0mparam\u001b[0m \u001b[1;31m# noqa\u001b[0m\u001b[1;33m\u001b[0m\u001b[1;33m\u001b[0m\u001b[0m\n\u001b[0;32m      5\u001b[0m \u001b[1;32mfrom\u001b[0m \u001b[1;33m.\u001b[0m \u001b[1;32mimport\u001b[0m \u001b[0mpipeline\u001b[0m \u001b[1;31m# noqa\u001b[0m\u001b[1;33m\u001b[0m\u001b[1;33m\u001b[0m\u001b[0m\n",
      "\u001b[1;32m~\\AppData\\Local\\Programs\\Python\\Python39\\lib\\site-packages\\panel\\layout\\__init__.py\u001b[0m in \u001b[0;36m<module>\u001b[1;34m\u001b[0m\n\u001b[1;32m----> 1\u001b[1;33m \u001b[1;32mfrom\u001b[0m \u001b[1;33m.\u001b[0m\u001b[0maccordion\u001b[0m \u001b[1;32mimport\u001b[0m \u001b[0mAccordion\u001b[0m \u001b[1;31m# noqa\u001b[0m\u001b[1;33m\u001b[0m\u001b[1;33m\u001b[0m\u001b[0m\n\u001b[0m\u001b[0;32m      2\u001b[0m \u001b[1;32mfrom\u001b[0m \u001b[1;33m.\u001b[0m\u001b[0mbase\u001b[0m \u001b[1;32mimport\u001b[0m \u001b[0mColumn\u001b[0m\u001b[1;33m,\u001b[0m \u001b[0mListLike\u001b[0m\u001b[1;33m,\u001b[0m \u001b[0mListPanel\u001b[0m\u001b[1;33m,\u001b[0m \u001b[0mPanel\u001b[0m\u001b[1;33m,\u001b[0m \u001b[0mRow\u001b[0m\u001b[1;33m,\u001b[0m \u001b[0mWidgetBox\u001b[0m \u001b[1;31m# noqa\u001b[0m\u001b[1;33m\u001b[0m\u001b[1;33m\u001b[0m\u001b[0m\n\u001b[0;32m      3\u001b[0m \u001b[1;32mfrom\u001b[0m \u001b[1;33m.\u001b[0m\u001b[0mcard\u001b[0m \u001b[1;32mimport\u001b[0m \u001b[0mCard\u001b[0m \u001b[1;31m# noqa\u001b[0m\u001b[1;33m\u001b[0m\u001b[1;33m\u001b[0m\u001b[0m\n\u001b[0;32m      4\u001b[0m \u001b[1;32mfrom\u001b[0m \u001b[1;33m.\u001b[0m\u001b[0mgrid\u001b[0m \u001b[1;32mimport\u001b[0m \u001b[0mGridBox\u001b[0m\u001b[1;33m,\u001b[0m \u001b[0mGridSpec\u001b[0m \u001b[1;31m# noqa\u001b[0m\u001b[1;33m\u001b[0m\u001b[1;33m\u001b[0m\u001b[0m\n\u001b[0;32m      5\u001b[0m \u001b[1;32mfrom\u001b[0m \u001b[1;33m.\u001b[0m\u001b[0mspacer\u001b[0m \u001b[1;32mimport\u001b[0m \u001b[0mDivider\u001b[0m\u001b[1;33m,\u001b[0m \u001b[0mHSpacer\u001b[0m\u001b[1;33m,\u001b[0m \u001b[0mSpacer\u001b[0m\u001b[1;33m,\u001b[0m \u001b[0mVSpacer\u001b[0m \u001b[1;31m# noqa\u001b[0m\u001b[1;33m\u001b[0m\u001b[1;33m\u001b[0m\u001b[0m\n",
      "\u001b[1;32m~\\AppData\\Local\\Programs\\Python\\Python39\\lib\\site-packages\\panel\\layout\\accordion.py\u001b[0m in \u001b[0;36m<module>\u001b[1;34m\u001b[0m\n\u001b[0;32m      3\u001b[0m \u001b[1;32mfrom\u001b[0m \u001b[0mbokeh\u001b[0m\u001b[1;33m.\u001b[0m\u001b[0mmodels\u001b[0m \u001b[1;32mimport\u001b[0m \u001b[0mColumn\u001b[0m \u001b[1;32mas\u001b[0m \u001b[0mBkColumn\u001b[0m\u001b[1;33m,\u001b[0m \u001b[0mCustomJS\u001b[0m\u001b[1;33m\u001b[0m\u001b[1;33m\u001b[0m\u001b[0m\n\u001b[0;32m      4\u001b[0m \u001b[1;33m\u001b[0m\u001b[0m\n\u001b[1;32m----> 5\u001b[1;33m \u001b[1;32mfrom\u001b[0m \u001b[1;33m.\u001b[0m\u001b[0mbase\u001b[0m \u001b[1;32mimport\u001b[0m \u001b[0mNamedListPanel\u001b[0m\u001b[1;33m\u001b[0m\u001b[1;33m\u001b[0m\u001b[0m\n\u001b[0m\u001b[0;32m      6\u001b[0m \u001b[1;32mfrom\u001b[0m \u001b[1;33m.\u001b[0m\u001b[0mcard\u001b[0m \u001b[1;32mimport\u001b[0m \u001b[0mCard\u001b[0m\u001b[1;33m\u001b[0m\u001b[1;33m\u001b[0m\u001b[0m\n\u001b[0;32m      7\u001b[0m \u001b[1;33m\u001b[0m\u001b[0m\n",
      "\u001b[1;32m~\\AppData\\Local\\Programs\\Python\\Python39\\lib\\site-packages\\panel\\layout\\base.py\u001b[0m in \u001b[0;36m<module>\u001b[1;34m\u001b[0m\n\u001b[0;32m     11\u001b[0m \u001b[1;32mfrom\u001b[0m \u001b[1;33m.\u001b[0m\u001b[1;33m.\u001b[0m\u001b[0mio\u001b[0m\u001b[1;33m.\u001b[0m\u001b[0mmodel\u001b[0m \u001b[1;32mimport\u001b[0m \u001b[0mhold\u001b[0m\u001b[1;33m\u001b[0m\u001b[1;33m\u001b[0m\u001b[0m\n\u001b[0;32m     12\u001b[0m \u001b[1;32mfrom\u001b[0m \u001b[1;33m.\u001b[0m\u001b[1;33m.\u001b[0m\u001b[0mio\u001b[0m\u001b[1;33m.\u001b[0m\u001b[0mstate\u001b[0m \u001b[1;32mimport\u001b[0m \u001b[0mstate\u001b[0m\u001b[1;33m\u001b[0m\u001b[1;33m\u001b[0m\u001b[0m\n\u001b[1;32m---> 13\u001b[1;33m \u001b[1;32mfrom\u001b[0m \u001b[1;33m.\u001b[0m\u001b[1;33m.\u001b[0m\u001b[0mreactive\u001b[0m \u001b[1;32mimport\u001b[0m \u001b[0mReactive\u001b[0m\u001b[1;33m\u001b[0m\u001b[1;33m\u001b[0m\u001b[0m\n\u001b[0m\u001b[0;32m     14\u001b[0m \u001b[1;32mfrom\u001b[0m \u001b[1;33m.\u001b[0m\u001b[1;33m.\u001b[0m\u001b[0mutil\u001b[0m \u001b[1;32mimport\u001b[0m \u001b[0mparam_name\u001b[0m\u001b[1;33m,\u001b[0m \u001b[0mparam_reprs\u001b[0m\u001b[1;33m\u001b[0m\u001b[1;33m\u001b[0m\u001b[0m\n\u001b[0;32m     15\u001b[0m \u001b[1;33m\u001b[0m\u001b[0m\n",
      "\u001b[1;32m~\\AppData\\Local\\Programs\\Python\\Python39\\lib\\site-packages\\panel\\reactive.py\u001b[0m in \u001b[0;36m<module>\u001b[1;34m\u001b[0m\n\u001b[0;32m     25\u001b[0m \u001b[1;32mfrom\u001b[0m \u001b[1;33m.\u001b[0m\u001b[0mio\u001b[0m\u001b[1;33m.\u001b[0m\u001b[0mstate\u001b[0m \u001b[1;32mimport\u001b[0m \u001b[0mstate\u001b[0m\u001b[1;33m\u001b[0m\u001b[1;33m\u001b[0m\u001b[0m\n\u001b[0;32m     26\u001b[0m \u001b[1;32mfrom\u001b[0m \u001b[1;33m.\u001b[0m\u001b[0mutil\u001b[0m \u001b[1;32mimport\u001b[0m \u001b[0medit_readonly\u001b[0m\u001b[1;33m,\u001b[0m \u001b[0mupdating\u001b[0m\u001b[1;33m\u001b[0m\u001b[1;33m\u001b[0m\u001b[0m\n\u001b[1;32m---> 27\u001b[1;33m \u001b[1;32mfrom\u001b[0m \u001b[1;33m.\u001b[0m\u001b[0mviewable\u001b[0m \u001b[1;32mimport\u001b[0m \u001b[0mRenderable\u001b[0m\u001b[1;33m,\u001b[0m \u001b[0mViewable\u001b[0m\u001b[1;33m\u001b[0m\u001b[1;33m\u001b[0m\u001b[0m\n\u001b[0m\u001b[0;32m     28\u001b[0m \u001b[1;33m\u001b[0m\u001b[0m\n\u001b[0;32m     29\u001b[0m \u001b[0mLinkWatcher\u001b[0m \u001b[1;33m=\u001b[0m \u001b[0mnamedtuple\u001b[0m\u001b[1;33m(\u001b[0m\u001b[1;34m\"Watcher\"\u001b[0m\u001b[1;33m,\u001b[0m\u001b[1;34m\"inst cls fn mode onlychanged parameter_names what queued target links transformed bidirectional_watcher\"\u001b[0m\u001b[1;33m)\u001b[0m\u001b[1;33m\u001b[0m\u001b[1;33m\u001b[0m\u001b[0m\n",
      "\u001b[1;32m~\\AppData\\Local\\Programs\\Python\\Python39\\lib\\site-packages\\panel\\viewable.py\u001b[0m in \u001b[0;36m<module>\u001b[1;34m\u001b[0m\n\u001b[0;32m     36\u001b[0m \u001b[1;33m\u001b[0m\u001b[0m\n\u001b[0;32m     37\u001b[0m \u001b[1;33m\u001b[0m\u001b[0m\n\u001b[1;32m---> 38\u001b[1;33m \u001b[1;32mclass\u001b[0m \u001b[0mLayoutable\u001b[0m\u001b[1;33m(\u001b[0m\u001b[0mparam\u001b[0m\u001b[1;33m.\u001b[0m\u001b[0mParameterized\u001b[0m\u001b[1;33m)\u001b[0m\u001b[1;33m:\u001b[0m\u001b[1;33m\u001b[0m\u001b[1;33m\u001b[0m\u001b[0m\n\u001b[0m\u001b[0;32m     39\u001b[0m     \"\"\"\n\u001b[0;32m     40\u001b[0m     \u001b[0mLayoutable\u001b[0m \u001b[0mdefines\u001b[0m \u001b[0mshared\u001b[0m \u001b[0mstyle\u001b[0m \u001b[1;32mand\u001b[0m \u001b[0mlayout\u001b[0m \u001b[0mrelated\u001b[0m \u001b[0mparameters\u001b[0m\u001b[1;33m\u001b[0m\u001b[1;33m\u001b[0m\u001b[0m\n",
      "\u001b[1;32m~\\AppData\\Local\\Programs\\Python\\Python39\\lib\\site-packages\\panel\\viewable.py\u001b[0m in \u001b[0;36mLayoutable\u001b[1;34m()\u001b[0m\n\u001b[0;32m     60\u001b[0m         Background color of the component.\"\"\")\n\u001b[0;32m     61\u001b[0m \u001b[1;33m\u001b[0m\u001b[0m\n\u001b[1;32m---> 62\u001b[1;33m     css_classes = param.List(default=None, doc=\"\"\"\n\u001b[0m\u001b[0;32m     63\u001b[0m         CSS classes to apply to the layout.\"\"\")\n\u001b[0;32m     64\u001b[0m \u001b[1;33m\u001b[0m\u001b[0m\n",
      "\u001b[1;32m~\\AppData\\Local\\Programs\\Python\\Python39\\lib\\site-packages\\param\\__init__.py\u001b[0m in \u001b[0;36m__init__\u001b[1;34m(self, default, class_, item_type, instantiate, bounds, **params)\u001b[0m\n\u001b[0;32m   1388\u001b[0m         Parameter.__init__(self, default=default, instantiate=instantiate,\n\u001b[0;32m   1389\u001b[0m                            **params)\n\u001b[1;32m-> 1390\u001b[1;33m         \u001b[0mself\u001b[0m\u001b[1;33m.\u001b[0m\u001b[0m_validate\u001b[0m\u001b[1;33m(\u001b[0m\u001b[0mdefault\u001b[0m\u001b[1;33m)\u001b[0m\u001b[1;33m\u001b[0m\u001b[1;33m\u001b[0m\u001b[0m\n\u001b[0m\u001b[0;32m   1391\u001b[0m \u001b[1;33m\u001b[0m\u001b[0m\n\u001b[0;32m   1392\u001b[0m     \u001b[1;32mdef\u001b[0m \u001b[0m_validate\u001b[0m\u001b[1;33m(\u001b[0m\u001b[0mself\u001b[0m\u001b[1;33m,\u001b[0m \u001b[0mval\u001b[0m\u001b[1;33m)\u001b[0m\u001b[1;33m:\u001b[0m\u001b[1;33m\u001b[0m\u001b[1;33m\u001b[0m\u001b[0m\n",
      "\u001b[1;32m~\\AppData\\Local\\Programs\\Python\\Python39\\lib\\site-packages\\param\\__init__.py\u001b[0m in \u001b[0;36m_validate\u001b[1;34m(self, val)\u001b[0m\n\u001b[0;32m   1396\u001b[0m         \"\"\"\n\u001b[0;32m   1397\u001b[0m         \u001b[0mself\u001b[0m\u001b[1;33m.\u001b[0m\u001b[0m_validate_value\u001b[0m\u001b[1;33m(\u001b[0m\u001b[0mval\u001b[0m\u001b[1;33m,\u001b[0m \u001b[0mself\u001b[0m\u001b[1;33m.\u001b[0m\u001b[0mallow_None\u001b[0m\u001b[1;33m)\u001b[0m\u001b[1;33m\u001b[0m\u001b[1;33m\u001b[0m\u001b[0m\n\u001b[1;32m-> 1398\u001b[1;33m         \u001b[0mself\u001b[0m\u001b[1;33m.\u001b[0m\u001b[0m_validate_bounds\u001b[0m\u001b[1;33m(\u001b[0m\u001b[0mval\u001b[0m\u001b[1;33m,\u001b[0m \u001b[0mself\u001b[0m\u001b[1;33m.\u001b[0m\u001b[0mbounds\u001b[0m\u001b[1;33m)\u001b[0m\u001b[1;33m\u001b[0m\u001b[1;33m\u001b[0m\u001b[0m\n\u001b[0m\u001b[0;32m   1399\u001b[0m         \u001b[0mself\u001b[0m\u001b[1;33m.\u001b[0m\u001b[0m_validate_item_type\u001b[0m\u001b[1;33m(\u001b[0m\u001b[0mval\u001b[0m\u001b[1;33m,\u001b[0m \u001b[0mself\u001b[0m\u001b[1;33m.\u001b[0m\u001b[0mitem_type\u001b[0m\u001b[1;33m)\u001b[0m\u001b[1;33m\u001b[0m\u001b[1;33m\u001b[0m\u001b[0m\n\u001b[0;32m   1400\u001b[0m \u001b[1;33m\u001b[0m\u001b[0m\n",
      "\u001b[1;32m~\\AppData\\Local\\Programs\\Python\\Python39\\lib\\site-packages\\param\\__init__.py\u001b[0m in \u001b[0;36m_validate_bounds\u001b[1;34m(self, val, bounds)\u001b[0m\n\u001b[0;32m   1404\u001b[0m             \u001b[1;32mreturn\u001b[0m\u001b[1;33m\u001b[0m\u001b[1;33m\u001b[0m\u001b[0m\n\u001b[0;32m   1405\u001b[0m         \u001b[0mmin_length\u001b[0m\u001b[1;33m,\u001b[0m \u001b[0mmax_length\u001b[0m \u001b[1;33m=\u001b[0m \u001b[0mbounds\u001b[0m\u001b[1;33m\u001b[0m\u001b[1;33m\u001b[0m\u001b[0m\n\u001b[1;32m-> 1406\u001b[1;33m         \u001b[0ml\u001b[0m \u001b[1;33m=\u001b[0m \u001b[0mlen\u001b[0m\u001b[1;33m(\u001b[0m\u001b[0mval\u001b[0m\u001b[1;33m)\u001b[0m\u001b[1;33m\u001b[0m\u001b[1;33m\u001b[0m\u001b[0m\n\u001b[0m\u001b[0;32m   1407\u001b[0m         \u001b[1;32mif\u001b[0m \u001b[0mmin_length\u001b[0m \u001b[1;32mis\u001b[0m \u001b[1;32mnot\u001b[0m \u001b[1;32mNone\u001b[0m \u001b[1;32mand\u001b[0m \u001b[0mmax_length\u001b[0m \u001b[1;32mis\u001b[0m \u001b[1;32mnot\u001b[0m \u001b[1;32mNone\u001b[0m\u001b[1;33m:\u001b[0m\u001b[1;33m\u001b[0m\u001b[1;33m\u001b[0m\u001b[0m\n\u001b[0;32m   1408\u001b[0m             \u001b[1;32mif\u001b[0m \u001b[1;32mnot\u001b[0m \u001b[1;33m(\u001b[0m\u001b[0mmin_length\u001b[0m \u001b[1;33m<=\u001b[0m \u001b[0ml\u001b[0m \u001b[1;33m<=\u001b[0m \u001b[0mmax_length\u001b[0m\u001b[1;33m)\u001b[0m\u001b[1;33m:\u001b[0m\u001b[1;33m\u001b[0m\u001b[1;33m\u001b[0m\u001b[0m\n",
      "\u001b[1;31mTypeError\u001b[0m: object of type 'NoneType' has no len()"
     ]
    }
   ],
   "source": [
    "import panel as pn\r\n",
    "pn.extension()\r\n",
    "pn.Column(\"# Hello Panel World\")"
   ]
  }
 ],
 "metadata": {
  "interpreter": {
   "hash": "e6d209de1fcf0a2757251db495b071c6141e9e7431f285d977f499ea32d6233d"
  },
  "kernelspec": {
   "display_name": "Python 3.9.2 64-bit",
   "name": "python3"
  },
  "language_info": {
   "codemirror_mode": {
    "name": "ipython",
    "version": 3
   },
   "file_extension": ".py",
   "mimetype": "text/x-python",
   "name": "python",
   "nbconvert_exporter": "python",
   "pygments_lexer": "ipython3",
   "version": "3.9.2"
  },
  "metadata": {
   "interpreter": {
    "hash": "e6d209de1fcf0a2757251db495b071c6141e9e7431f285d977f499ea32d6233d"
   }
  },
  "orig_nbformat": 2
 },
 "nbformat": 4,
 "nbformat_minor": 2
}